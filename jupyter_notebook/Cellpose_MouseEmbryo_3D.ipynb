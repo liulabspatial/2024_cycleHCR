{
 "cells": [
  {
   "cell_type": "code",
   "execution_count": null,
   "id": "ae9c07c0",
   "metadata": {},
   "outputs": [],
   "source": [
    "!nvcc --version\n",
    "!nvidia-smi\n",
    "import os, shutil\n",
    "import numpy as np\n",
    "import matplotlib.pyplot as plt\n",
    "from cellpose import core, utils, io, models, metrics, transforms\n",
    "from tqdm import trange\n",
    "import fastremap\n",
    "\n",
    "\n",
    "use_GPU = core.use_gpu()\n",
    "yn = ['NO', 'YES']\n",
    "print(f'>>> GPU activated? {yn[use_GPU]}')\n",
    "\n"
   ]
  },
  {
   "cell_type": "code",
   "execution_count": null,
   "id": "437f6943-32e0-4e04-9746-1febb3c0efd6",
   "metadata": {},
   "outputs": [],
   "source": [
    "# call logger_setup to have output of cellpose written\n",
    "from cellpose.io import logger_setup\n",
    "from cellpose.transforms import normalize99\n",
    "from cellpose.io import imsave\n",
    "\n",
    "logger_setup();\n",
    "\n",
    "path_input = \"Path/To/DAPI\"\n",
    "filename = \"DAPI.tif\"\n",
    "\n",
    "path = os.path.join(path_input, filename)\n",
    "\n",
    "print(path)\n",
    "dapi = io.imread(path)\n",
    "\n",
    "\n",
    "print(\"dapi channel\")\n",
    "print(\"\\r shape: {0}\".format(dapi.shape))\n",
    "print(\"\\r dtype: {0}\".format(dapi.dtype))\n",
    "print(\"\\r min: {0}\".format(dapi.min()))\n",
    "print(\"\\r max: {0}\".format(dapi.max()), \"\\n\")\n",
    "\n"
   ]
  },
  {
   "cell_type": "code",
   "execution_count": null,
   "id": "0157ab80-755c-4dd1-a461-fce42f6c89a2",
   "metadata": {},
   "outputs": [],
   "source": [
    "dapi_norm = normalize99(dapi)\n",
    "#plt.imshow(dapi_norm[round(dapi.shape[0]/2)], vmin=0, vmax=1)\n"
   ]
  },
  {
   "cell_type": "code",
   "execution_count": null,
   "id": "e76eb3f9",
   "metadata": {},
   "outputs": [],
   "source": [
    "\n",
    "path_output = path_input + 'segmentation/';\n",
    "os.makedirs(path_output, exist_ok=True)\n",
    "\n"
   ]
  },
  {
   "cell_type": "code",
   "execution_count": null,
   "id": "0d4e4865-085d-4dfc-9144-04cb4472f340",
   "metadata": {},
   "outputs": [],
   "source": [
    "# model name and path\n",
    "#@markdown ###Custom model path (full path):\n",
    "model_path = \"Path/To/Model\" #@param {type:\"string\"}\n",
    "\n",
    "\n",
    "# declare model\n",
    "model = models.CellposeModel(gpu=True, \n",
    "                             pretrained_model=model_path)\n",
    "\n",
    "# use model diameter if user diameter is 0\n",
    "diameter = 0\n",
    "diameter = model.diam_labels if diameter==0 else diameter\n",
    "print(diameter)"
   ]
  },
  {
   "cell_type": "code",
   "execution_count": null,
   "id": "fc814916",
   "metadata": {},
   "outputs": [],
   "source": [
    "rfilename = filename.split('.')\n",
    "rfilename.extend({'masks_1000pixelcutoff_trainedmodel'})\n",
    "rfilename = '_'.join(rfilename) + '.tif'\n",
    "rfilename = os.path.join(path_output,  rfilename)\n",
    "print(rfilename)\n"
   ]
  },
  {
   "cell_type": "code",
   "execution_count": null,
   "id": "a68bfae3-dc6f-4bb6-acf9-7aeec77872fc",
   "metadata": {},
   "outputs": [],
   "source": [
    "masks, flows, styles = model.eval(dapi_norm, \n",
    "                                    diameter=diameter,\n",
    "                                    flow_threshold=0.0,\n",
    "                                    do_3D=True, normalize=False)"
   ]
  },
  {
   "cell_type": "code",
   "execution_count": null,
   "id": "34986fd3-f7eb-478f-9b02-77ffd710a249",
   "metadata": {},
   "outputs": [],
   "source": [
    "print(masks.shape)"
   ]
  },
  {
   "cell_type": "code",
   "execution_count": null,
   "id": "690eebad-c401-43ca-85aa-a7a2c65768b5",
   "metadata": {},
   "outputs": [],
   "source": [
    "masks_final = utils.fill_holes_and_remove_small_masks(masks.copy(), min_size=1000)\n",
    "print(f\"removed {masks.max() - masks_final.max()} masks smaller than 1000 pixels\")\n"
   ]
  },
  {
   "cell_type": "code",
   "execution_count": null,
   "id": "30b7b857-b819-4b86-9b91-ca1e429e8fae",
   "metadata": {},
   "outputs": [],
   "source": [
    "print(masks_final.max())"
   ]
  },
  {
   "cell_type": "code",
   "execution_count": null,
   "id": "6a496d05-12ed-47e6-88d6-6d251b926419",
   "metadata": {},
   "outputs": [],
   "source": [
    "io.imsave(rfilename, masks_final)"
   ]
  },
  {
   "cell_type": "code",
   "execution_count": null,
   "id": "b66a1457-aa38-4298-bd58-d290f912351f",
   "metadata": {},
   "outputs": [],
   "source": []
  }
 ],
 "metadata": {
  "kernelspec": {
   "display_name": "Python 3 (ipykernel)",
   "language": "python",
   "name": "python3"
  },
  "language_info": {
   "codemirror_mode": {
    "name": "ipython",
    "version": 3
   },
   "file_extension": ".py",
   "mimetype": "text/x-python",
   "name": "python",
   "nbconvert_exporter": "python",
   "pygments_lexer": "ipython3",
   "version": "3.8.18"
  }
 },
 "nbformat": 4,
 "nbformat_minor": 5
}
