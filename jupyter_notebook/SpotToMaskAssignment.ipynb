{
 "cells": [
  {
   "cell_type": "code",
   "execution_count": null,
   "id": "c0718637-68bc-4bdc-bfdd-1d5344af42a7",
   "metadata": {},
   "outputs": [],
   "source": [
    "import pandas as pd\n",
    "import numpy as np\n",
    "import math\n",
    "import tifffile\n",
    "\n",
    "import sys\n",
    "import os\n",
    "import re\n",
    "import argparse\n",
    "import platform\n",
    "from glob import glob\n",
    "from natsort import natsorted\n"
   ]
  },
  {
   "cell_type": "code",
   "execution_count": null,
   "id": "f50b2f70-119d-4cb5-9974-61ae67b811dc",
   "metadata": {},
   "outputs": [],
   "source": [
    "\n",
    "def read_3d_coordinates_from_csv(file_path):\n",
    "    \"\"\"\n",
    "    Reads 3D coordinates from a CSV file.\n",
    "\n",
    "    :param file_path: Path to the CSV file.\n",
    "    :return: DataFrame with 3D coordinates.\n",
    "    \"\"\"\n",
    "    # Load the CSV file\n",
    "    df = pd.read_csv(file_path)\n",
    "\n",
    "    # Assuming the columns are named 'x', 'y', 'z'\n",
    "    if all(col in df.columns for col in ['z', 'y', 'x']):\n",
    "        return df[['z', 'y', 'x']]\n",
    "    else:\n",
    "        pd.DataFrame([np.zeros(3)])\n",
    "        return df\n",
    "        #raise ValueError(\"CSV file must contain 'x', 'y', 'z' columns\")\n",
    "\n"
   ]
  },
  {
   "cell_type": "code",
   "execution_count": null,
   "id": "0aa09095-59b0-4697-b4fb-3b2dab4e7c65",
   "metadata": {},
   "outputs": [],
   "source": [
    "seg_file_path = \"Path/To/SegmentedMask\"\n",
    "\n",
    "path_input = \"Path/To/RSFISHoutput\"\n",
    "inputfiles = natsorted(glob(path_input + '*.csv'))\n",
    "\n",
    "output = \"Path/To/Outputgene.csv\"\n",
    "print(inputfiles)\n",
    " "
   ]
  },
  {
   "cell_type": "code",
   "execution_count": null,
   "id": "9111c660-0baf-4e35-8a3b-e2950543a17d",
   "metadata": {},
   "outputs": [],
   "source": [
    "\n",
    "\n",
    "lb = tifffile.imread(seg_file_path)\n",
    "\n",
    "lb_id = np.unique(lb[lb != 0])\n",
    "z, y, x = lb.shape\n",
    "\n",
    "count = pd.DataFrame(np.empty([len(lb_id), 0]), index=lb_id)\n",
    "df = pd.DataFrame(np.zeros([len(lb_id), 1]), index=lb_id, columns=['count'])\n",
    "\n",
    "for f in input:\n",
    "    f = f.split('\\\\')\n",
    "    f = '/'.join(f)\n",
    "    print(f)\n",
    "    r = os.path.basename(f).split('/')[-1]\n",
    "    r = r.split('.')[0]\n",
    "\n",
    "    spots = read_3d_coordinates_from_csv(f).to_numpy()\n",
    "    rounded_spots = np.round(spots).astype('uint16')\n",
    "\n",
    "    spot_id = 0\n",
    "    for spot in rounded_spots:\n",
    "        #print(\"Z:\", spot[0], \"Y:\", spot[1], \"X:\", spot[2])\n",
    "        if np.any(np.isnan(spot)):\n",
    "            print('NaN found on line# {}'.format(spot_id+1))\n",
    "        else:\n",
    "            if np.any(spot<0):\n",
    "                print('Point outside of fixed image found on line# {}'.format(spot_id+1))\n",
    "            else:\n",
    "                try:\n",
    "                    # if all non-rounded coord are valid values (none is NaN)\n",
    "                    Coord = np.minimum(spot, [x, y, z])\n",
    "                    idx = lb[Coord[2]-1, Coord[1]-1, Coord[0]-1]\n",
    "                    if idx > 0 and idx <= len(lb_id):\n",
    "                        # increment counter\n",
    "                        df.loc[idx, 'count'] = df.loc[idx, 'count']+1\n",
    "                except Exception as e:\n",
    "                    print('Unexpected error on line# {}: {}'.format(spot_id+1, e))\n",
    "        spot_id += 1\n",
    "    count.loc[:, r] = df.to_numpy()\n",
    "\n",
    "\n",
    "\n"
   ]
  },
  {
   "cell_type": "code",
   "execution_count": null,
   "id": "517bc2f9-a6dd-4fca-aef3-7f4b909a54ec",
   "metadata": {},
   "outputs": [],
   "source": [
    "spots = read_3d_coordinates_from_csv(f).to_numpy()"
   ]
  },
  {
   "cell_type": "code",
   "execution_count": null,
   "id": "31c1dd85-0539-4138-8acb-2d6cb87df609",
   "metadata": {},
   "outputs": [],
   "source": [
    "print(count)"
   ]
  },
  {
   "cell_type": "code",
   "execution_count": null,
   "id": "308b665e-2a6a-4a1f-9572-920c64efc5bc",
   "metadata": {},
   "outputs": [],
   "source": [
    "count = count.astype('uint16')\n",
    "print(\"Writing\", output)\n",
    "count.to_csv(output)"
   ]
  },
  {
   "cell_type": "code",
   "execution_count": null,
   "id": "04b96ef0-2002-49eb-a14b-522c77061f12",
   "metadata": {},
   "outputs": [],
   "source": []
  }
 ],
 "metadata": {
  "kernelspec": {
   "display_name": "Python 3 (ipykernel)",
   "language": "python",
   "name": "python3"
  },
  "language_info": {
   "codemirror_mode": {
    "name": "ipython",
    "version": 3
   },
   "file_extension": ".py",
   "mimetype": "text/x-python",
   "name": "python",
   "nbconvert_exporter": "python",
   "pygments_lexer": "ipython3",
   "version": "3.8.18"
  }
 },
 "nbformat": 4,
 "nbformat_minor": 5
}
