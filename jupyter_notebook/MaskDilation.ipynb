{
 "cells": [
  {
   "cell_type": "code",
   "execution_count": 1,
   "id": "e1f10f6d-cab1-4fa2-a28e-449d1581282b",
   "metadata": {},
   "outputs": [],
   "source": [
    "import pandas as pd\n",
    "import numpy as np\n",
    "import math\n",
    "import dask.array as da\n",
    "import dask\n",
    "from dask.distributed import LocalCluster, Client\n",
    "import tifffile"
   ]
  },
  {
   "cell_type": "code",
   "execution_count": 2,
   "id": "0dbe0e96-3828-42bb-83d5-ca11c4f4e496",
   "metadata": {},
   "outputs": [],
   "source": [
    "def custom_filter(block):\n",
    "    \"\"\"\n",
    "    Apply a custom filter to a 3D block.\n",
    "    \n",
    "    Parameters:\n",
    "    - block: 3D numpy array, a small block of the image with padding.\n",
    "    \n",
    "    Returns:\n",
    "    - filtered_block: 3D numpy array, the filtered block.\n",
    "    \"\"\"\n",
    "    # Initialize the output block with zeros\n",
    "    filtered_block = np.zeros(block.shape, dtype=block.dtype)\n",
    "    \n",
    "    # Iterate through each voxel in the block (excluding the border voxels due to padding)\n",
    "    for z in range(1, block.shape[0] - 1):\n",
    "        for y in range(1, block.shape[1] - 1):\n",
    "            for x in range(1, block.shape[2] - 1):\n",
    "                val = block[z, y, x]\n",
    "                if val == 0:\n",
    "                    neighbors = [block[z-1, y, x], block[z+1, y, x], block[z, y-1, x], block[z, y+1, x], block[z, y, x-1], block[z, y, x+1]]\n",
    "                    array_1d = np.array(neighbors)\n",
    "                    max_val = array_1d.max()\n",
    "                    filtered_block[z, y, x] = max_val\n",
    "                else:\n",
    "                    filtered_block[z, y, x] = val\n",
    "    \n",
    "    # Return the filtered block, excluding the padding\n",
    "    return filtered_block\n",
    "\n",
    "def apply_custom_filter_dask(image, chunk_size=(100, 100, 100), iteration=1):\n",
    "    \"\"\"\n",
    "    Apply a custom 3x3x3 filter to a 3D image using Dask.\n",
    "    \n",
    "    Parameters:\n",
    "    - image: 3D numpy array, the input image.\n",
    "    - chunk_size: tuple, the size of the chunks for the Dask array.\n",
    "    - iteration: iteration number of filtering.\n",
    "    \n",
    "    Returns:\n",
    "    - filtered_image: 3D numpy array, the filtered image.\n",
    "    \"\"\"\n",
    "    # Convert the input image to a Dask array with specified chunks\n",
    "    image_da = da.from_array(image, chunks=chunk_size)\n",
    "\n",
    "    print(image_da.shape)\n",
    "    \n",
    "    for i in range(iteration):\n",
    "        print(\"iteration \" + str(i))\n",
    "        # Apply the custom filter using map_overlap\n",
    "        tmp_da = image_da.map_overlap(custom_filter,\n",
    "                                      depth=1,\n",
    "                                      boundary='nearest')\n",
    "        filtered_image = tmp_da.compute()\n",
    "        print(filtered_image.shape)\n",
    "        image_da = da.from_array(filtered_image, chunks=chunk_size)\n",
    "    \n",
    "    return filtered_image\n",
    "\n"
   ]
  },
  {
   "cell_type": "code",
   "execution_count": 4,
   "id": "40ef4f71-bccd-4dd0-99ba-018e30b516fe",
   "metadata": {},
   "outputs": [
    {
     "name": "stderr",
     "output_type": "stream",
     "text": [
      "C:\\Users\\liuz11\\Anaconda3\\envs\\cellpose\\lib\\site-packages\\distributed\\node.py:182: UserWarning: Port 8787 is already in use.\n",
      "Perhaps you already have a cluster running?\n",
      "Hosting the HTTP server on port 62044 instead\n",
      "  warnings.warn(\n",
      "C:\\Users\\liuz11\\Anaconda3\\envs\\cellpose\\lib\\contextlib.py:120: UserWarning: Creating scratch directories is taking a surprisingly long time. (1.06s) This is often due to running workers on a network file system. Consider specifying a local-directory to point workers to write scratch data to a local disk.\n",
      "  next(self.gen)\n"
     ]
    },
    {
     "name": "stdout",
     "output_type": "stream",
     "text": [
      "(648, 1152, 1152)\n",
      "iteration 0\n"
     ]
    },
    {
     "name": "stderr",
     "output_type": "stream",
     "text": [
      "C:\\Users\\liuz11\\Anaconda3\\envs\\cellpose\\lib\\site-packages\\distributed\\client.py:3108: UserWarning: Sending large graph of size 1.60 GiB.\n",
      "This may cause some slowdown.\n",
      "Consider scattering data ahead of time and using futures.\n",
      "  warnings.warn(\n"
     ]
    },
    {
     "name": "stdout",
     "output_type": "stream",
     "text": [
      "(648, 1152, 1152)\n",
      "iteration 1\n"
     ]
    },
    {
     "name": "stderr",
     "output_type": "stream",
     "text": [
      "C:\\Users\\liuz11\\Anaconda3\\envs\\cellpose\\lib\\site-packages\\distributed\\client.py:3108: UserWarning: Sending large graph of size 1.60 GiB.\n",
      "This may cause some slowdown.\n",
      "Consider scattering data ahead of time and using futures.\n",
      "  warnings.warn(\n"
     ]
    },
    {
     "name": "stdout",
     "output_type": "stream",
     "text": [
      "(648, 1152, 1152)\n"
     ]
    },
    {
     "name": "stderr",
     "output_type": "stream",
     "text": [
      "C:\\Users\\liuz11\\AppData\\Local\\Temp\\ipykernel_11912\\1241259583.py:13: DeprecationWarning: <tifffile.imsave> is deprecated. Use tifffile.imwrite\n",
      "  tifffile.imsave(output_file_path, filtered_image, compression=(\"ZLIB\", 6))\n"
     ]
    }
   ],
   "source": [
    "def dilate_segments():\n",
    "    client = Client(n_workers=14, threads_per_worker=1)\n",
    "    input_file_path = \"D:/E65mEmbryo/E65SegFinal.tiff\"\n",
    "    output_file_path = \"D:/E65mEmbryo/E65SegFinalD2.tiff\"\n",
    "    iteration = 2\n",
    "    \n",
    "    # Load the TIFF file as a NumPy array\n",
    "    with tifffile.TiffFile(input_file_path) as tif:\n",
    "        image = tif.asarray()\n",
    "\n",
    "    filtered_image = apply_custom_filter_dask(image, chunk_size=(100, 100, 100), iteration=iteration)\n",
    "\n",
    "    tifffile.imsave(output_file_path, filtered_image, compression=(\"ZLIB\", 6))    \n",
    "\n",
    "def main():\n",
    "    dilate_segments()\n",
    "\n",
    "\n",
    "if __name__ == '__main__':\n",
    "    main()"
   ]
  },
  {
   "cell_type": "code",
   "execution_count": null,
   "id": "bf008558-04e5-4c76-b816-8ab8f1043ae8",
   "metadata": {},
   "outputs": [],
   "source": []
  }
 ],
 "metadata": {
  "kernelspec": {
   "display_name": "Python 3 (ipykernel)",
   "language": "python",
   "name": "python3"
  },
  "language_info": {
   "codemirror_mode": {
    "name": "ipython",
    "version": 3
   },
   "file_extension": ".py",
   "mimetype": "text/x-python",
   "name": "python",
   "nbconvert_exporter": "python",
   "pygments_lexer": "ipython3",
   "version": "3.8.18"
  }
 },
 "nbformat": 4,
 "nbformat_minor": 5
}
