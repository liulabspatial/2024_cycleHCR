{
 "cells": [
  {
   "cell_type": "code",
   "execution_count": null,
   "metadata": {},
   "outputs": [],
   "source": [
    "import os\n",
    "import numpy as np\n",
    "import matplotlib.pyplot as plt \n",
    "from scipy.ndimage import gaussian_filter, gaussian_filter1d\n",
    "from cellpose import io, transforms, utils, models, dynamics\n",
    "from tqdm import trange\n",
    "import gc\n",
    "from glob import glob\n",
    "import cv2\n",
    "from natsort import natsorted \n",
    "import shutil\n",
    "from pathlib import Path\n",
    "import torch \n",
    "\n",
    "device = torch.device(\"cuda\")\n",
    "\n",
    "root = Path(\"Path/To/DAPIfolder\")\n",
    "img = io.imread(root / \"DAPI.tiff\")"
   ]
  },
  {
   "cell_type": "code",
   "execution_count": null,
   "metadata": {},
   "outputs": [],
   "source": [
    "#masks = io.imread(root / \"DAPIhippocampus_crop_masks.tif\")"
   ]
  },
  {
   "cell_type": "code",
   "execution_count": null,
   "metadata": {},
   "outputs": [],
   "source": [
    "#plt.imshow(img[125,:,:], aspect=\"auto\", vmin=0, vmax=1)\n",
    "print(\"\\r shape: {0}\".format(img.shape))\n",
    "#print(\"\\r shape: {0}\".format(masks.shape))\n",
    "\n",
    "#masks_full = np.zeros(img.shape, dtype=\"uint16\")"
   ]
  },
  {
   "cell_type": "code",
   "execution_count": null,
   "metadata": {},
   "outputs": [],
   "source": [
    "# optional - crop the stack to reduce runtime / memory usage\n",
    "#y0, y1 = 280, 2300\n",
    "#x0, x1 = 200, 4368\n",
    "#z0, z1 = 15, 220\n",
    "#masks_full[z0:z1, y0:y1, x0:x1] = masks;\n",
    "#img = img[z0:z1, y0:y1, x0:x1]"
   ]
  },
  {
   "cell_type": "code",
   "execution_count": null,
   "metadata": {},
   "outputs": [],
   "source": [
    "# normalize the z-stack\n",
    "img = transforms.normalize99(img)"
   ]
  },
  {
   "cell_type": "code",
   "execution_count": null,
   "metadata": {},
   "outputs": [],
   "source": [
    "# initialize the models\n",
    "io.logger_setup()\n",
    "modelXY = models.CellposeModel(pretrained_model= root / \"models/Modelxy\", gpu=True)\n",
    "modelYZ = models.CellposeModel(pretrained_model= root / \"models/Modelyz\", gpu=True)\n",
    "\n",
    "diameterXY = modelXY.diam_labels\n",
    "diameterYZ = modelYZ.diam_labels"
   ]
  },
  {
   "cell_type": "code",
   "execution_count": null,
   "metadata": {},
   "outputs": [],
   "source": [
    "# compute the flows\n",
    "\n",
    "nchan = 2\n",
    "\n",
    "shape = img.shape\n",
    "cellprob = np.zeros((3, *shape), \"float32\")\n",
    "dP = np.zeros((3, 2, *shape), \"float32\")\n",
    "\n",
    "pm = [(0,1,2), (1,0,2), (2,0,1)]\n",
    "ipm = [(0,1,2), (1,0,2), (1,2,0)]\n",
    "\n",
    "for p in range(0, 3):\n",
    "    print(p)\n",
    "    img0 = img.copy().transpose(pm[p])\n",
    "    y = np.zeros((3, *img0.shape), \"float32\")\n",
    "    for z in trange(img0.shape[0]):\n",
    "        if p==0:\n",
    "            _, flows, _ = modelXY.eval(img0[z], batch_size=128, compute_masks=False, diameter=diameterXY)\n",
    "        else:\n",
    "            _, flows, _ = modelYZ.eval(img0[z], batch_size=128, compute_masks=False, diameter=diameterYZ)\n",
    "        y[:2, z] = flows[1].squeeze()\n",
    "        y[-1, z] = flows[2].squeeze()\n",
    "    dP[p, 0] = y[0].transpose(ipm[p])\n",
    "    dP[p, 1] = y[1].transpose(ipm[p])\n",
    "    cellprob[p] = y[-1].transpose(ipm[p])\n"
   ]
  },
  {
   "cell_type": "code",
   "execution_count": null,
   "metadata": {},
   "outputs": [],
   "source": [
    "# optional - save intermediates\n",
    "#np.save(root / \"dP.npy\", dP)\n",
    "#np.save(root / \"cellprob.npy\", cellprob)"
   ]
  },
  {
   "cell_type": "code",
   "execution_count": null,
   "metadata": {},
   "outputs": [],
   "source": [
    "# average predictions from 3 views\n",
    "cellprob_all = cellprob.mean(axis=0)\n",
    "dP_all = np.stack((dP[1][0] + dP[2][0], dP[0][0] + dP[2][1], dP[0][1] + dP[1][1]),\n",
    "                          axis=0) # (dZ, dY, dX)"
   ]
  },
  {
   "cell_type": "code",
   "execution_count": null,
   "metadata": {},
   "outputs": [],
   "source": [
    "# compute masks (most memory intensive)\n",
    "masks_pred, p = dynamics.compute_masks(dP_all, cellprob_all, do_3D=True,\n",
    "                                        device=device)"
   ]
  },
  {
   "cell_type": "code",
   "execution_count": null,
   "metadata": {},
   "outputs": [],
   "source": [
    "# remove cells below a certain size\n",
    "masks_pred0 = utils.fill_holes_and_remove_small_masks(masks_pred, min_size=1000)\n"
   ]
  },
  {
   "cell_type": "code",
   "execution_count": null,
   "metadata": {},
   "outputs": [],
   "source": [
    "# save crop and masks\n",
    "io.imsave(root / \"Masks.tiff\", masks_pred0)\n"
   ]
  },
  {
   "cell_type": "code",
   "execution_count": null,
   "metadata": {},
   "outputs": [],
   "source": []
  }
 ],
 "metadata": {
  "kernelspec": {
   "display_name": "Python 3 (ipykernel)",
   "language": "python",
   "name": "python3"
  },
  "language_info": {
   "codemirror_mode": {
    "name": "ipython",
    "version": 3
   },
   "file_extension": ".py",
   "mimetype": "text/x-python",
   "name": "python",
   "nbconvert_exporter": "python",
   "pygments_lexer": "ipython3",
   "version": "3.8.18"
  }
 },
 "nbformat": 4,
 "nbformat_minor": 4
}
